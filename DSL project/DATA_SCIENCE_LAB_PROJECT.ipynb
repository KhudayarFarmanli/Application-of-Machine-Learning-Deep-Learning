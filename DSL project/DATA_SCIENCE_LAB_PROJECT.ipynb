{
 "cells": [
  {
   "cell_type": "code",
   "execution_count": 1,
   "metadata": {},
   "outputs": [],
   "source": [
    "import pandas as pd\n",
    "import numpy as np\n",
    "import sklearn\n",
    "import seaborn as sns\n",
    "import matplotlib\n",
    "import matplotlib.pyplot as plt\n",
    "from sklearn.compose import ColumnTransformer\n",
    "from sklearn.pipeline import Pipeline\n",
    "from sklearn.preprocessing import OneHotEncoder\n",
    "from sklearn.feature_extraction.text import TfidfVectorizer\n",
    "from sklearn.linear_model import Ridge\n",
    "from scipy.stats import norm\n",
    "from tqdm import tqdm\n",
    "from sklearn.metrics import r2_score"
   ]
  },
  {
   "cell_type": "code",
   "execution_count": 2,
   "metadata": {},
   "outputs": [
    {
     "data": {
      "text/html": [
       "<div>\n",
       "<style scoped>\n",
       "    .dataframe tbody tr th:only-of-type {\n",
       "        vertical-align: middle;\n",
       "    }\n",
       "\n",
       "    .dataframe tbody tr th {\n",
       "        vertical-align: top;\n",
       "    }\n",
       "\n",
       "    .dataframe thead th {\n",
       "        text-align: right;\n",
       "    }\n",
       "</style>\n",
       "<table border=\"1\" class=\"dataframe\">\n",
       "  <thead>\n",
       "    <tr style=\"text-align: right;\">\n",
       "      <th></th>\n",
       "      <th>country</th>\n",
       "      <th>description</th>\n",
       "      <th>designation</th>\n",
       "      <th>province</th>\n",
       "      <th>region_1</th>\n",
       "      <th>region_2</th>\n",
       "      <th>variety</th>\n",
       "      <th>winery</th>\n",
       "      <th>quality</th>\n",
       "    </tr>\n",
       "  </thead>\n",
       "  <tbody>\n",
       "    <tr>\n",
       "      <th>0</th>\n",
       "      <td>France</td>\n",
       "      <td>A creamed pear wine, with an attractive tang o...</td>\n",
       "      <td>Brut Blanc de Blancs</td>\n",
       "      <td>Alsace</td>\n",
       "      <td>Crémant d'Alsace</td>\n",
       "      <td>NaN</td>\n",
       "      <td>Pinot Blanc</td>\n",
       "      <td>Lucien Albrecht</td>\n",
       "      <td>45.0</td>\n",
       "    </tr>\n",
       "    <tr>\n",
       "      <th>1</th>\n",
       "      <td>US</td>\n",
       "      <td>Simple and dry, this Cabernet has modest black...</td>\n",
       "      <td>NaN</td>\n",
       "      <td>California</td>\n",
       "      <td>Paso Robles</td>\n",
       "      <td>Central Coast</td>\n",
       "      <td>Cabernet Sauvignon</td>\n",
       "      <td>Castle Rock</td>\n",
       "      <td>31.0</td>\n",
       "    </tr>\n",
       "  </tbody>\n",
       "</table>\n",
       "</div>"
      ],
      "text/plain": [
       "  country                                        description  \\\n",
       "0  France  A creamed pear wine, with an attractive tang o...   \n",
       "1      US  Simple and dry, this Cabernet has modest black...   \n",
       "\n",
       "            designation    province          region_1       region_2  \\\n",
       "0  Brut Blanc de Blancs      Alsace  Crémant d'Alsace            NaN   \n",
       "1                   NaN  California       Paso Robles  Central Coast   \n",
       "\n",
       "              variety           winery  quality  \n",
       "0         Pinot Blanc  Lucien Albrecht     45.0  \n",
       "1  Cabernet Sauvignon      Castle Rock     31.0  "
      ]
     },
     "execution_count": 2,
     "metadata": {},
     "output_type": "execute_result"
    }
   ],
   "source": [
    "#reading 'development' dataset\n",
    "data = pd.read_csv(\"dev.tsv\", sep=\"\\t\", low_memory = False)\n",
    "data.head(2)"
   ]
  },
  {
   "cell_type": "code",
   "execution_count": 3,
   "metadata": {},
   "outputs": [
    {
     "name": "stdout",
     "output_type": "stream",
     "text": [
      "Data has 120744 rows and 9 columns\n"
     ]
    }
   ],
   "source": [
    "#print number of rows and columns\n",
    "print(\"Data has {} rows and {} columns\".format(data.shape[0], data.shape[1]))"
   ]
  },
  {
   "cell_type": "code",
   "execution_count": 4,
   "metadata": {},
   "outputs": [
    {
     "data": {
      "image/png": "[encoded data removed]",
      "text/plain": [
       "<Figure size 432x288 with 1 Axes>"
      ]
     },
     "metadata": {
      "needs_background": "light"
     },
     "output_type": "display_data"
    }
   ],
   "source": [
    "#Quality look to be nicely distributed from 20 to 80 points\n",
    "distribution = sns.distplot(data.quality, bins = 20, kde = False, fit = norm)"
   ]
  },
  {
   "cell_type": "code",
   "execution_count": 5,
   "metadata": {},
   "outputs": [],
   "source": [
    "#fig = distribution.get_figure()\n",
    "#fig.savefig(fname =\"C:/Users/xferm/Desktop/Data Science Lab-2020/distribution.png\", format='png', dpi=300)"
   ]
  },
  {
   "cell_type": "code",
   "execution_count": 6,
   "metadata": {},
   "outputs": [
    {
     "name": "stdout",
     "output_type": "stream",
     "text": [
      "Proportion of Null Values in Each Column\n",
      "country         0.004\n",
      "description     0.000\n",
      "designation    30.244\n",
      "province        0.004\n",
      "region_1       16.571\n",
      "region_2       59.637\n",
      "variety         0.000\n",
      "winery          0.000\n",
      "quality         0.000\n",
      "dtype: float64\n"
     ]
    }
   ],
   "source": [
    "print(\"Proportion of Null Values in Each Column\")\n",
    "print(np.around(data.isna().sum()/data.shape[0]*100, 3))\n",
    "NAlist = np.around(data.isna().sum()/data.shape[0], 4).values*100\n",
    "\n",
    "na_country = np.array([NAlist[0], 100- NAlist[0]])\n",
    "na_description = np.array([NAlist[1], 100- NAlist[1]])\n",
    "na_designation = np.array([NAlist[2], 100- NAlist[2]])\n",
    "\n",
    "na_province = np.array([NAlist[3], 100- NAlist[3]])\n",
    "na_region_1 = np.array([NAlist[4], 100- NAlist[4]])\n",
    "na_region_2 = np.array([NAlist[5], 100- NAlist[5]])\n",
    "\n",
    "na_variety = np.array([NAlist[6], 100- NAlist[6]])\n",
    "na_winery = np.array([NAlist[7], 100- NAlist[7]])\n",
    "\n",
    "na_quality = np.array([NAlist[8], 100- NAlist[8]])\n",
    "\n",
    "NA_pairs_list = [na_country, na_description, na_designation, na_province, na_region_1, \\\n",
    "                 na_region_2, na_variety, na_winery, na_quality]"
   ]
  },
  {
   "cell_type": "code",
   "execution_count": 7,
   "metadata": {},
   "outputs": [
    {
     "data": {
      "image/png": "[encoded data removed]",
      "text/plain": [
       "<Figure size 864x432 with 8 Axes>"
      ]
     },
     "metadata": {},
     "output_type": "display_data"
    }
   ],
   "source": [
    "fig, axes= plt.subplots(2, 4)\n",
    "fig.set_size_inches(12,6)\n",
    "fig.suptitle(\"Proportion of Null and Non-Null Values in Each Column\", fontsize=20)\n",
    "for i, ax in enumerate(axes.flatten()):\n",
    "    ax.pie(NA_pairs_list[i], autopct=\"%.2f%%\", pctdistance=0.55,  \\\n",
    "           radius = 3,startangle=90, colors = [[0,1, 0.5], [0.8, 0.3, 0.5]]) #, wedgeprops = {'edgecolor':'black'})\n",
    "    ax.set_title(data.columns[i], fontsize = 17)\n",
    "    ax.axis('equal')\n",
    "ax.legend(['Null', 'Not Null'],\n",
    "          title=\"Key\",\n",
    "          loc=\"center left\",\n",
    "          bbox_to_anchor=(1, 0.6, 0.4, 1))\n",
    "\n",
    "plt.show()"
   ]
  },
  {
   "cell_type": "code",
   "execution_count": 8,
   "metadata": {},
   "outputs": [],
   "source": [
    "#fig.savefig(fname =\"C:/Users/xferm/Desktop/Data Science Lab-2020/null_final.png\", format='png', dpi=300)"
   ]
  },
  {
   "cell_type": "code",
   "execution_count": 9,
   "metadata": {},
   "outputs": [],
   "source": [
    "#From the proportion of NUll values we saw that there are so few rows which do not have 'country' or 'province', that is why,\n",
    "#it is better to remove particular rows.\n",
    "data.dropna(subset = ['country', 'province'], inplace = True)"
   ]
  },
  {
   "cell_type": "code",
   "execution_count": 10,
   "metadata": {},
   "outputs": [],
   "source": [
    "#For filling the missing values of 'region_1' we will iterate through all the province values and write to dictionary \n",
    "#the most seen 'region_1' value along with particular province name. If there is not even single region for particular province \n",
    "#(and this is often the case) then write 'NoListedRegion'.\n",
    "#For instance, we will find most seen 'region_1' for Italy and write both of them as key, values pair.\n",
    "regionDict = {}\n",
    "for p in data.province.value_counts().index:\n",
    "    if len(data[data.province ==p].region_1.value_counts()) < 1:\n",
    "        regionDict.update({p: 'NoListedRegion'})\n",
    "    else:\n",
    "        regionDict.update({p:  data[data.province == p].region_1.value_counts().index[0]})"
   ]
  },
  {
   "cell_type": "code",
   "execution_count": 11,
   "metadata": {},
   "outputs": [
    {
     "name": "stderr",
     "output_type": "stream",
     "text": [
      "100%|██████████| 120739/120739 [00:57<00:00, 2102.50it/s]\n"
     ]
    }
   ],
   "source": [
    "#Filling Null values in 'region_1' by looking up the associated province and\n",
    "#finding the most common region for that province in the regionDict\n",
    "tqdm.pandas()\n",
    "data['region_1_filled'] = data[['province', 'region_1']].progress_apply(lambda row: row.fillna(value = \\\n",
    "regionDict.get(row['province'])), axis = 1).loc[:, 'region_1']"
   ]
  },
  {
   "cell_type": "code",
   "execution_count": 12,
   "metadata": {},
   "outputs": [],
   "source": [
    "#Same process repeated this time for 'designation'\n",
    "designationDict = {}\n",
    "for p in data.winery.value_counts().index:\n",
    "    if len(data[data.winery ==p].designation.value_counts()) < 1:\n",
    "        designationDict.update({p: 'NoListedDesignation'})\n",
    "    else:\n",
    "        designationDict.update({p:  data[data.winery == p].designation.value_counts().index[0]})"
   ]
  },
  {
   "cell_type": "code",
   "execution_count": 13,
   "metadata": {},
   "outputs": [
    {
     "name": "stderr",
     "output_type": "stream",
     "text": [
      "100%|██████████| 120739/120739 [00:57<00:00, 2088.85it/s]\n"
     ]
    }
   ],
   "source": [
    "data['designation_filled'] = data[['winery', 'designation']].progress_apply(lambda row: row.fillna(value = \\\n",
    "designationDict.get(row['winery'])), axis = 1).loc[:, 'designation'] "
   ]
  },
  {
   "cell_type": "code",
   "execution_count": 14,
   "metadata": {},
   "outputs": [
    {
     "data": {
      "text/plain": [
       "country                   0\n",
       "description               0\n",
       "designation           36518\n",
       "province                  0\n",
       "region_1              20003\n",
       "region_2              72003\n",
       "variety                   0\n",
       "winery                    0\n",
       "quality                   0\n",
       "region_1_filled           0\n",
       "designation_filled        0\n",
       "dtype: int64"
      ]
     },
     "execution_count": 14,
     "metadata": {},
     "output_type": "execute_result"
    }
   ],
   "source": [
    "data.isna().sum()"
   ]
  },
  {
   "cell_type": "code",
   "execution_count": 15,
   "metadata": {},
   "outputs": [
    {
     "name": "stdout",
     "output_type": "stream",
     "text": [
      "country has 48 distinct values, 0.04% of values unique\n",
      "description has 85002 distinct values, 70.4% of values unique\n",
      "designation has 27797 distinct values, 23.02% of values unique\n",
      "province has 444 distinct values, 0.37% of values unique\n",
      "region_1 has 1206 distinct values, 1.0% of values unique\n",
      "region_2 has 18 distinct values, 0.01% of values unique\n",
      "variety has 603 distinct values, 0.5% of values unique\n",
      "winery has 14104 distinct values, 11.68% of values unique\n",
      "region_1_filled has 1207 distinct values, 1.0% of values unique\n",
      "designation_filled has 27798 distinct values, 23.02% of values unique\n"
     ]
    }
   ],
   "source": [
    "#Loop through cateorical variables and print number of distinct values and append proportion of distinct values to a list\n",
    "data_cats = data.columns[data.dtypes.values==\"O\"]\n",
    "uniqueList = []\n",
    "for c in data_cats:\n",
    "    print(\"{} has {} distinct values, {}% of values unique\".format(c, len(data[c].value_counts()), \\\n",
    "    np.around(len(data[c].value_counts())/data.shape[0]*100,2)))\n",
    "    uniqueList.append(np.around(len(data[c].value_counts())/data.shape[0]*100,2))"
   ]
  },
  {
   "cell_type": "code",
   "execution_count": 16,
   "metadata": {},
   "outputs": [],
   "source": [
    "uni_country = np.array([uniqueList[0], 100- uniqueList[0]])\n",
    "uni_description = np.array([uniqueList[1], 100- uniqueList[1]])\n",
    "\n",
    "uni_designation = np.array([uniqueList[2], 100- uniqueList[2]])\n",
    "uni_province = np.array([uniqueList[3], 100- uniqueList[3]])\n",
    "\n",
    "uni_region_1 = np.array([uniqueList[4], 100- uniqueList[4]])\n",
    "uni_region_2 = np.array([uniqueList[5], 100- uniqueList[5]])\n",
    "\n",
    "uni_variety = np.array([uniqueList[6], 100- uniqueList[6]])\n",
    "uni_winery = np.array([uniqueList[7], 100- uniqueList[7]])\n",
    "\n",
    "unique_pairs_list = [uni_country, uni_description, uni_designation, uni_province, uni_region_1, uni_region_2, \\\n",
    "                     uni_variety, uni_winery]\n",
    "\n",
    "labels = ('Unique', 'Non-Unique')"
   ]
  },
  {
   "cell_type": "code",
   "execution_count": 17,
   "metadata": {},
   "outputs": [
    {
     "data": {
      "image/png": "[encoded data removed]",
      "text/plain": [
       "<Figure size 864x432 with 8 Axes>"
      ]
     },
     "metadata": {},
     "output_type": "display_data"
    }
   ],
   "source": [
    "fig, axes= plt.subplots(2, 4)\n",
    "fig.set_size_inches(12,6)\n",
    "fig.suptitle(\"Proportion of Unique and Non-Unique Values for Categorical Vars\", fontsize=20)\n",
    "for i, ax in enumerate(axes.flatten()):\n",
    "    ax.pie(unique_pairs_list[i], autopct=\"%.2f%%\", pctdistance=0.6, \\\n",
    "    radius = 2,startangle=90, colors = [[0,1, 0.5], [0.8, 0.3, 0.5]])\n",
    "    ax.set_title(data_cats[i], fontsize = 17 )\n",
    "    ax.axis('equal')\n",
    "    \n",
    "ax.legend(labels,\n",
    "          title=\"Key\",\n",
    "          loc=\"center left\",\n",
    "          bbox_to_anchor=(0.9, 0.6, 0.4, 1))\n",
    "plt.show()"
   ]
  },
  {
   "cell_type": "code",
   "execution_count": 18,
   "metadata": {},
   "outputs": [],
   "source": [
    "#fig.savefig(fname =\"C:/Users/xferm/Desktop/Data Science Lab-2020/unique_final.png\", format='png', dpi=300)"
   ]
  },
  {
   "cell_type": "code",
   "execution_count": 19,
   "metadata": {},
   "outputs": [
    {
     "data": {
      "text/html": [
       "<div>\n",
       "<style scoped>\n",
       "    .dataframe tbody tr th:only-of-type {\n",
       "        vertical-align: middle;\n",
       "    }\n",
       "\n",
       "    .dataframe tbody tr th {\n",
       "        vertical-align: top;\n",
       "    }\n",
       "\n",
       "    .dataframe thead th {\n",
       "        text-align: right;\n",
       "    }\n",
       "</style>\n",
       "<table border=\"1\" class=\"dataframe\">\n",
       "  <thead>\n",
       "    <tr style=\"text-align: right;\">\n",
       "      <th></th>\n",
       "      <th>country</th>\n",
       "      <th>description</th>\n",
       "      <th>designation</th>\n",
       "      <th>province</th>\n",
       "      <th>region_1</th>\n",
       "      <th>region_2</th>\n",
       "      <th>variety</th>\n",
       "      <th>winery</th>\n",
       "      <th>quality</th>\n",
       "      <th>region_1_filled</th>\n",
       "      <th>designation_filled</th>\n",
       "    </tr>\n",
       "  </thead>\n",
       "  <tbody>\n",
       "    <tr>\n",
       "      <th>94890</th>\n",
       "      <td>Chile</td>\n",
       "      <td>$11. Opens with a highly perfumed bouquet of l...</td>\n",
       "      <td>Estate Reserve</td>\n",
       "      <td>Maipo Valley</td>\n",
       "      <td>NaN</td>\n",
       "      <td>NaN</td>\n",
       "      <td>Chardonnay</td>\n",
       "      <td>La Playa</td>\n",
       "      <td>29.0</td>\n",
       "      <td>NoListedRegion</td>\n",
       "      <td>Estate Reserve</td>\n",
       "    </tr>\n",
       "    <tr>\n",
       "      <th>23306</th>\n",
       "      <td>Austria</td>\n",
       "      <td>. Christoph Neumeister's top wine, this is a c...</td>\n",
       "      <td>Moarfeitl</td>\n",
       "      <td>Südoststeiermark</td>\n",
       "      <td>NaN</td>\n",
       "      <td>NaN</td>\n",
       "      <td>Sauvignon Blanc</td>\n",
       "      <td>Neumeister</td>\n",
       "      <td>57.0</td>\n",
       "      <td>NoListedRegion</td>\n",
       "      <td>Moarfeitl</td>\n",
       "    </tr>\n",
       "    <tr>\n",
       "      <th>27170</th>\n",
       "      <td>Austria</td>\n",
       "      <td>. Christoph Neumeister's top wine, this is a c...</td>\n",
       "      <td>Moarfeitl</td>\n",
       "      <td>Südoststeiermark</td>\n",
       "      <td>NaN</td>\n",
       "      <td>NaN</td>\n",
       "      <td>Sauvignon Blanc</td>\n",
       "      <td>Neumeister</td>\n",
       "      <td>57.0</td>\n",
       "      <td>NoListedRegion</td>\n",
       "      <td>Moarfeitl</td>\n",
       "    </tr>\n",
       "    <tr>\n",
       "      <th>97820</th>\n",
       "      <td>France</td>\n",
       "      <td>. From a small south-facing parcel next to the...</td>\n",
       "      <td>Trie Spéciale</td>\n",
       "      <td>Loire Valley</td>\n",
       "      <td>Savennières</td>\n",
       "      <td>NaN</td>\n",
       "      <td>Chenin Blanc</td>\n",
       "      <td>Domaine des Baumard</td>\n",
       "      <td>54.0</td>\n",
       "      <td>Savennières</td>\n",
       "      <td>Trie Spéciale</td>\n",
       "    </tr>\n",
       "    <tr>\n",
       "      <th>78567</th>\n",
       "      <td>Argentina</td>\n",
       "      <td>. Pencil eraser, tomato leaf and sweet fruit a...</td>\n",
       "      <td>NaN</td>\n",
       "      <td>Mendoza Province</td>\n",
       "      <td>Mendoza</td>\n",
       "      <td>NaN</td>\n",
       "      <td>Cabernet Sauvignon</td>\n",
       "      <td>Fantelli</td>\n",
       "      <td>24.0</td>\n",
       "      <td>Mendoza</td>\n",
       "      <td>Serie Magno</td>\n",
       "    </tr>\n",
       "  </tbody>\n",
       "</table>\n",
       "</div>"
      ],
      "text/plain": [
       "         country                                        description  \\\n",
       "94890      Chile  $11. Opens with a highly perfumed bouquet of l...   \n",
       "23306    Austria  . Christoph Neumeister's top wine, this is a c...   \n",
       "27170    Austria  . Christoph Neumeister's top wine, this is a c...   \n",
       "97820     France  . From a small south-facing parcel next to the...   \n",
       "78567  Argentina  . Pencil eraser, tomato leaf and sweet fruit a...   \n",
       "\n",
       "          designation          province     region_1 region_2  \\\n",
       "94890  Estate Reserve      Maipo Valley          NaN      NaN   \n",
       "23306       Moarfeitl  Südoststeiermark          NaN      NaN   \n",
       "27170       Moarfeitl  Südoststeiermark          NaN      NaN   \n",
       "97820   Trie Spéciale      Loire Valley  Savennières      NaN   \n",
       "78567             NaN  Mendoza Province      Mendoza      NaN   \n",
       "\n",
       "                  variety               winery  quality region_1_filled  \\\n",
       "94890          Chardonnay             La Playa     29.0  NoListedRegion   \n",
       "23306     Sauvignon Blanc           Neumeister     57.0  NoListedRegion   \n",
       "27170     Sauvignon Blanc           Neumeister     57.0  NoListedRegion   \n",
       "97820        Chenin Blanc  Domaine des Baumard     54.0     Savennières   \n",
       "78567  Cabernet Sauvignon             Fantelli     24.0         Mendoza   \n",
       "\n",
       "      designation_filled  \n",
       "94890     Estate Reserve  \n",
       "23306          Moarfeitl  \n",
       "27170          Moarfeitl  \n",
       "97820      Trie Spéciale  \n",
       "78567        Serie Magno  "
      ]
     },
     "execution_count": 19,
     "metadata": {},
     "output_type": "execute_result"
    }
   ],
   "source": [
    "#Checking the rows that have the same 'description', 'winery', 'variety', 'country' and 'province'\n",
    "data[(data.duplicated(subset = ['description', 'winery', 'variety','country', 'province']))] \\\n",
    ".sort_values(by = 'description').head()"
   ]
  },
  {
   "cell_type": "code",
   "execution_count": 20,
   "metadata": {},
   "outputs": [
    {
     "data": {
      "text/plain": [
       "(120739, 11)"
      ]
     },
     "execution_count": 20,
     "metadata": {},
     "output_type": "execute_result"
    }
   ],
   "source": [
    "data.shape"
   ]
  },
  {
   "cell_type": "code",
   "execution_count": 21,
   "metadata": {},
   "outputs": [],
   "source": [
    "#Drop the rows that have the same 'description', 'winery', 'variety', 'country', and 'province'\n",
    "data.drop_duplicates(subset = ['description', 'winery', 'variety', 'country', 'province'],inplace = True)"
   ]
  },
  {
   "cell_type": "code",
   "execution_count": 22,
   "metadata": {},
   "outputs": [
    {
     "data": {
      "text/plain": [
       "(85018, 11)"
      ]
     },
     "execution_count": 22,
     "metadata": {},
     "output_type": "execute_result"
    }
   ],
   "source": [
    "#We can easily see there are more that 35k duplicates.\n",
    "data.shape"
   ]
  },
  {
   "cell_type": "code",
   "execution_count": 23,
   "metadata": {},
   "outputs": [],
   "source": [
    "#Drop all rows that have a '-' in the country column,\n",
    "#no countries have a dash in their name but some values in the data set did ('US-France')\n",
    "data = data[~(data.country.astype(str).str.contains('-'))].reset_index(drop=True)"
   ]
  },
  {
   "cell_type": "code",
   "execution_count": 24,
   "metadata": {},
   "outputs": [
    {
     "name": "stdout",
     "output_type": "stream",
     "text": [
      "country has 47 distinct values, 0.06% of values unique\n",
      "description has 85001 distinct values, 99.98% of values unique\n",
      "designation has 27795 distinct values, 32.69% of values unique\n",
      "province has 443 distinct values, 0.52% of values unique\n",
      "region_1 has 1206 distinct values, 1.42% of values unique\n",
      "region_2 has 18 distinct values, 0.02% of values unique\n",
      "variety has 603 distinct values, 0.71% of values unique\n",
      "winery has 14103 distinct values, 16.59% of values unique\n",
      "region_1_filled has 1207 distinct values, 1.42% of values unique\n",
      "designation_filled has 27796 distinct values, 32.69% of values unique\n"
     ]
    }
   ],
   "source": [
    "#Final uniqueness version categorical variables\n",
    "uniqueList2 = []\n",
    "for c in data_cats:\n",
    "    print(\"{} has {} distinct values, {}% of values unique\".format(c, len(data[c].value_counts()), \\\n",
    "    np.around(len(data[c].value_counts())/data.shape[0]*100,2)))\n",
    "    uniqueList2.append(np.around(len(data[c].value_counts())/data.shape[0]*100,2))"
   ]
  },
  {
   "cell_type": "code",
   "execution_count": 25,
   "metadata": {},
   "outputs": [],
   "source": [
    "_uni_country = np.array([uniqueList2[0], 100- uniqueList2[0]])\n",
    "_uni_description = np.array([uniqueList2[1], 100- uniqueList2[1]])\n",
    "\n",
    "_uni_designation = np.array([uniqueList2[2], 100- uniqueList2[2]])\n",
    "_uni_province = np.array([uniqueList2[3], 100- uniqueList2[3]])\n",
    "\n",
    "_uni_region_1 = np.array([uniqueList2[4], 100- uniqueList2[4]])\n",
    "_uni_region_2 = np.array([uniqueList2[5], 100- uniqueList2[5]])\n",
    "\n",
    "_uni_variety = np.array([uniqueList2[6], 100- uniqueList2[6]])\n",
    "_uni_winery = np.array([uniqueList2[7], 100- uniqueList2[7]])\n",
    "\n",
    "uni_pairs_list2 = [_uni_country, _uni_description, _uni_designation, _uni_province, _uni_region_1, _uni_region_2, _uni_variety, _uni_winery]\n",
    "\n",
    "labels = ('Unique', 'Non-Unique')\n",
    "colors = ['orange', 'red']"
   ]
  },
  {
   "cell_type": "code",
   "execution_count": 26,
   "metadata": {},
   "outputs": [
    {
     "data": {
      "image/png": "[encoded data removed]",
      "text/plain": [
       "<Figure size 864x432 with 8 Axes>"
      ]
     },
     "metadata": {},
     "output_type": "display_data"
    }
   ],
   "source": [
    "fig, axes= plt.subplots(2, 4)\n",
    "fig.set_size_inches(12,6)\n",
    "fig.suptitle(\"Proportion of Unique and Non-Unique Values for Categorical Vars\", fontsize=20)\n",
    "for i, ax in enumerate(axes.flatten()):\n",
    "    ax.pie(uni_pairs_list2[i], autopct=\"%.2f%%\", pctdistance=0.6, \\\n",
    "    radius = 2,startangle=90, colors = [[0,1, 0.5], [0.8, 0.3, 0.5]])\n",
    "    ax.set_title(data_cats[i], fontsize = 17)\n",
    "    ax.axis('equal')\n",
    "    \n",
    "ax.legend(labels,\n",
    "          title=\"Key\",\n",
    "          loc=\"center left\",\n",
    "          bbox_to_anchor=(0.9, 0.6, 0, 1))\n",
    "plt.show()"
   ]
  },
  {
   "cell_type": "code",
   "execution_count": 27,
   "metadata": {},
   "outputs": [],
   "source": [
    "#fig.savefig(fname =\"C:/Users/xferm/Desktop/Data Science Lab-2020/final.png\", format='png', dpi=300)"
   ]
  },
  {
   "cell_type": "code",
   "execution_count": 28,
   "metadata": {},
   "outputs": [],
   "source": [
    "#'development' dataset for training regression\n",
    "X_dev = data.drop(['designation', 'region_1', 'region_2', 'quality'], axis =1) \n",
    "y_dev = data['quality']"
   ]
  },
  {
   "cell_type": "code",
   "execution_count": 29,
   "metadata": {},
   "outputs": [],
   "source": [
    "#Reading Evaluation data\n",
    "data_eval = pd.read_csv(\"eval.tsv\", sep=\"\\t\", low_memory = False)"
   ]
  },
  {
   "cell_type": "code",
   "execution_count": 30,
   "metadata": {},
   "outputs": [],
   "source": [
    "#Soving Null problem of 'region_1'\n",
    "regionDict = {}\n",
    "for p in data_eval.province.value_counts().index:\n",
    "    if len(data_eval[data_eval.province ==p].region_1.value_counts()) < 1:\n",
    "        regionDict.update({p: 'NoListedRegion'})\n",
    "    else:\n",
    "        regionDict.update({p:  data_eval[data_eval.province == p].region_1.value_counts().index[0]})"
   ]
  },
  {
   "cell_type": "code",
   "execution_count": 31,
   "metadata": {},
   "outputs": [],
   "source": [
    "data_eval['region_1_filled'] = data_eval[['province', 'region_1']].apply(lambda row: row.fillna(value = \\\n",
    "regionDict.get(row['province'])), axis = 1).loc[:, 'region_1']"
   ]
  },
  {
   "cell_type": "code",
   "execution_count": 32,
   "metadata": {},
   "outputs": [],
   "source": [
    "#Solving Null problem of 'designation'\n",
    "designationDict = {}\n",
    "for p in data_eval.winery.value_counts().index:\n",
    "    if len(data_eval[data_eval.winery ==p].designation.value_counts()) < 1:\n",
    "        designationDict.update({p: 'NoListedDesignation'})\n",
    "    else:\n",
    "        designationDict.update({p:  data_eval[data_eval.winery == p].designation.value_counts().index[0]})"
   ]
  },
  {
   "cell_type": "code",
   "execution_count": 33,
   "metadata": {},
   "outputs": [
    {
     "name": "stderr",
     "output_type": "stream",
     "text": [
      "100%|██████████| 30186/30186 [00:14<00:00, 2104.11it/s]\n"
     ]
    }
   ],
   "source": [
    "data_eval['designation_filled'] = data_eval[['winery', 'designation']].progress_apply(lambda row: row.fillna(value = \\\n",
    "designationDict.get(row['winery'])), axis = 1).loc[:, 'designation']"
   ]
  },
  {
   "cell_type": "code",
   "execution_count": 34,
   "metadata": {},
   "outputs": [],
   "source": [
    "#'evaluation' dataset for predicting labels\n",
    "X_eval = data_eval.drop(['designation', 'region_1', 'region_2'], axis =1) "
   ]
  },
  {
   "cell_type": "code",
   "execution_count": 35,
   "metadata": {},
   "outputs": [
    {
     "data": {
      "text/html": [
       "<div>\n",
       "<style scoped>\n",
       "    .dataframe tbody tr th:only-of-type {\n",
       "        vertical-align: middle;\n",
       "    }\n",
       "\n",
       "    .dataframe tbody tr th {\n",
       "        vertical-align: top;\n",
       "    }\n",
       "\n",
       "    .dataframe thead th {\n",
       "        text-align: right;\n",
       "    }\n",
       "</style>\n",
       "<table border=\"1\" class=\"dataframe\">\n",
       "  <thead>\n",
       "    <tr style=\"text-align: right;\">\n",
       "      <th></th>\n",
       "      <th>country</th>\n",
       "      <th>description</th>\n",
       "      <th>province</th>\n",
       "      <th>variety</th>\n",
       "      <th>winery</th>\n",
       "      <th>region_1_filled</th>\n",
       "      <th>designation_filled</th>\n",
       "    </tr>\n",
       "  </thead>\n",
       "  <tbody>\n",
       "    <tr>\n",
       "      <th>0</th>\n",
       "      <td>US</td>\n",
       "      <td>Strong blueberry and black-cherry aromas mesh ...</td>\n",
       "      <td>California</td>\n",
       "      <td>Cabernet Sauvignon</td>\n",
       "      <td>Byington</td>\n",
       "      <td>Santa Cruz Mountains</td>\n",
       "      <td>Alliage</td>\n",
       "    </tr>\n",
       "  </tbody>\n",
       "</table>\n",
       "</div>"
      ],
      "text/plain": [
       "  country                                        description    province  \\\n",
       "0      US  Strong blueberry and black-cherry aromas mesh ...  California   \n",
       "\n",
       "              variety    winery       region_1_filled designation_filled  \n",
       "0  Cabernet Sauvignon  Byington  Santa Cruz Mountains            Alliage  "
      ]
     },
     "execution_count": 35,
     "metadata": {},
     "output_type": "execute_result"
    }
   ],
   "source": [
    "X_eval.head(1)"
   ]
  },
  {
   "cell_type": "code",
   "execution_count": 36,
   "metadata": {},
   "outputs": [
    {
     "data": {
      "text/html": [
       "<div>\n",
       "<style scoped>\n",
       "    .dataframe tbody tr th:only-of-type {\n",
       "        vertical-align: middle;\n",
       "    }\n",
       "\n",
       "    .dataframe tbody tr th {\n",
       "        vertical-align: top;\n",
       "    }\n",
       "\n",
       "    .dataframe thead th {\n",
       "        text-align: right;\n",
       "    }\n",
       "</style>\n",
       "<table border=\"1\" class=\"dataframe\">\n",
       "  <thead>\n",
       "    <tr style=\"text-align: right;\">\n",
       "      <th></th>\n",
       "      <th>country</th>\n",
       "      <th>description</th>\n",
       "      <th>province</th>\n",
       "      <th>variety</th>\n",
       "      <th>winery</th>\n",
       "      <th>region_1_filled</th>\n",
       "      <th>designation_filled</th>\n",
       "    </tr>\n",
       "  </thead>\n",
       "  <tbody>\n",
       "    <tr>\n",
       "      <th>0</th>\n",
       "      <td>France</td>\n",
       "      <td>A creamed pear wine, with an attractive tang o...</td>\n",
       "      <td>Alsace</td>\n",
       "      <td>Pinot Blanc</td>\n",
       "      <td>Lucien Albrecht</td>\n",
       "      <td>Crémant d'Alsace</td>\n",
       "      <td>Brut Blanc de Blancs</td>\n",
       "    </tr>\n",
       "  </tbody>\n",
       "</table>\n",
       "</div>"
      ],
      "text/plain": [
       "  country                                        description province  \\\n",
       "0  France  A creamed pear wine, with an attractive tang o...   Alsace   \n",
       "\n",
       "       variety           winery   region_1_filled    designation_filled  \n",
       "0  Pinot Blanc  Lucien Albrecht  Crémant d'Alsace  Brut Blanc de Blancs  "
      ]
     },
     "execution_count": 36,
     "metadata": {},
     "output_type": "execute_result"
    }
   ],
   "source": [
    "X_dev.head(1)"
   ]
  },
  {
   "cell_type": "code",
   "execution_count": 37,
   "metadata": {},
   "outputs": [],
   "source": [
    "#We divide 'development' dataset into train and test split for checking 'r2' score locally\n",
    "from sklearn.model_selection import train_test_split\n",
    "X_train, X_test, y_train, y_test = train_test_split(X_dev, y_dev, test_size=0.2)"
   ]
  },
  {
   "cell_type": "code",
   "execution_count": 38,
   "metadata": {},
   "outputs": [],
   "source": [
    "#'description' column will be transformed by TfIdf\n",
    "text_features = 'description' \n",
    "text_transformer = Pipeline(steps=[('vectorizer', TfidfVectorizer(stop_words ='english'))])"
   ]
  },
  {
   "cell_type": "code",
   "execution_count": 39,
   "metadata": {},
   "outputs": [],
   "source": [
    "#other categorical attributes will be transformed with OneHotEncoder\n",
    "categorical_features = ['country', 'province','variety', 'winery', 'region_1_filled', 'designation_filled'] \n",
    "categorical_transformer = Pipeline(steps=[('onehot', OneHotEncoder(handle_unknown='ignore'))])"
   ]
  },
  {
   "cell_type": "code",
   "execution_count": 40,
   "metadata": {},
   "outputs": [],
   "source": [
    "preprocessor = ColumnTransformer(transformers=[('text', text_transformer, text_features), \\\n",
    "                                               ('cat', categorical_transformer, categorical_features),])"
   ]
  },
  {
   "cell_type": "code",
   "execution_count": 41,
   "metadata": {},
   "outputs": [],
   "source": [
    "#Pipeline for encoding and regression \n",
    "# 0.825 result obtained with alpha=0.35, results published in pred18\n",
    "reg = Pipeline(steps=[('preprocessor', preprocessor), \\\n",
    "                      ('regressor', Ridge(alpha = 0.35))])"
   ]
  },
  {
   "cell_type": "code",
   "execution_count": 42,
   "metadata": {},
   "outputs": [],
   "source": [
    "reg.fit(X_dev, y_dev)\n",
    "y_pred = reg.predict(X_eval)"
   ]
  },
  {
   "cell_type": "code",
   "execution_count": 43,
   "metadata": {},
   "outputs": [
    {
     "data": {
      "text/plain": [
       "array([56.801177  , 57.28266861, 38.35772262, ..., 48.77722903,\n",
       "       28.5332983 , 36.14452635])"
      ]
     },
     "execution_count": 43,
     "metadata": {},
     "output_type": "execute_result"
    }
   ],
   "source": [
    "y_pred"
   ]
  },
  {
   "cell_type": "code",
   "execution_count": 44,
   "metadata": {},
   "outputs": [],
   "source": [
    "#'r2' score computation on 'development' dataset\n",
    "r2score = r2_score(y_test,  reg.predict(X_test))"
   ]
  },
  {
   "cell_type": "code",
   "execution_count": 45,
   "metadata": {},
   "outputs": [
    {
     "data": {
      "text/plain": [
       "0.9364269840428737"
      ]
     },
     "execution_count": 45,
     "metadata": {},
     "output_type": "execute_result"
    }
   ],
   "source": [
    "r2score"
   ]
  },
  {
   "cell_type": "code",
   "execution_count": 46,
   "metadata": {},
   "outputs": [],
   "source": [
    "df = pd.DataFrame(y_pred, columns = ['Predicted'])"
   ]
  },
  {
   "cell_type": "code",
   "execution_count": 47,
   "metadata": {},
   "outputs": [],
   "source": [
    "df.index.name = 'Id'"
   ]
  },
  {
   "cell_type": "code",
   "execution_count": 48,
   "metadata": {},
   "outputs": [
    {
     "data": {
      "text/html": [
       "<div>\n",
       "<style scoped>\n",
       "    .dataframe tbody tr th:only-of-type {\n",
       "        vertical-align: middle;\n",
       "    }\n",
       "\n",
       "    .dataframe tbody tr th {\n",
       "        vertical-align: top;\n",
       "    }\n",
       "\n",
       "    .dataframe thead th {\n",
       "        text-align: right;\n",
       "    }\n",
       "</style>\n",
       "<table border=\"1\" class=\"dataframe\">\n",
       "  <thead>\n",
       "    <tr style=\"text-align: right;\">\n",
       "      <th></th>\n",
       "      <th>Predicted</th>\n",
       "    </tr>\n",
       "    <tr>\n",
       "      <th>Id</th>\n",
       "      <th></th>\n",
       "    </tr>\n",
       "  </thead>\n",
       "  <tbody>\n",
       "    <tr>\n",
       "      <th>0</th>\n",
       "      <td>56.801177</td>\n",
       "    </tr>\n",
       "    <tr>\n",
       "      <th>1</th>\n",
       "      <td>57.282669</td>\n",
       "    </tr>\n",
       "    <tr>\n",
       "      <th>2</th>\n",
       "      <td>38.357723</td>\n",
       "    </tr>\n",
       "    <tr>\n",
       "      <th>3</th>\n",
       "      <td>62.444194</td>\n",
       "    </tr>\n",
       "    <tr>\n",
       "      <th>4</th>\n",
       "      <td>37.099214</td>\n",
       "    </tr>\n",
       "  </tbody>\n",
       "</table>\n",
       "</div>"
      ],
      "text/plain": [
       "    Predicted\n",
       "Id           \n",
       "0   56.801177\n",
       "1   57.282669\n",
       "2   38.357723\n",
       "3   62.444194\n",
       "4   37.099214"
      ]
     },
     "execution_count": 48,
     "metadata": {},
     "output_type": "execute_result"
    }
   ],
   "source": [
    "df.head()"
   ]
  },
  {
   "cell_type": "code",
   "execution_count": null,
   "metadata": {},
   "outputs": [],
   "source": [
    "#df.to_csv('y_pred26.csv', sep=',', index = True)"
   ]
  }
 ],
 "metadata": {
  "kernelspec": {
   "display_name": "Python 3",
   "language": "python",
   "name": "python3"
  },
  "language_info": {
   "codemirror_mode": {
    "name": "ipython",
    "version": 3
   },
   "file_extension": ".py",
   "mimetype": "text/x-python",
   "name": "python",
   "nbconvert_exporter": "python",
   "pygments_lexer": "ipython3",
   "version": "3.7.3"
  }
 },
 "nbformat": 4,
 "nbformat_minor": 2
}
